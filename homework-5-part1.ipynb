{
 "cells": [
  {
   "cell_type": "code",
   "execution_count": null,
   "id": "121fc1e4-637b-478b-ab0b-96af1c9d069d",
   "metadata": {},
   "outputs": [],
   "source": [
    "#1. Examine both Open Meteo and Tomorrow and decide which one you'd prefer to use. What drove your decision?\n",
    "\n",
    "# I will use Tomorrow API, because Tomorrow's api documentation is easier to read and decipher. I will need coordinates if I'm using Open Meteo. "
   ]
  },
  {
   "cell_type": "code",
   "execution_count": null,
   "id": "5fffdbbe-77b7-4bd6-9716-b5d6eccb3aa9",
   "metadata": {},
   "outputs": [],
   "source": [
    "#2. What is the URL to the documentation? (You don't use code for this one)\n",
    "\n",
    "'https://docs.tomorrow.io/reference/intro/getting-started?_gl=1*turbyp*_gcl_au*MTE0ODE4ODM5NC4xNzMxMDEwMjcx'"
   ]
  },
  {
   "cell_type": "code",
   "execution_count": 31,
   "id": "b907c914-dc99-4bc8-87f6-8095c5e654b2",
   "metadata": {},
   "outputs": [
    {
     "name": "stdout",
     "output_type": "stream",
     "text": [
      "the current temperature in Boston is 13.38\n"
     ]
    }
   ],
   "source": [
    "#Make a request for the current weather where you are born, or somewhere you've lived.\n",
    "\n",
    "import requests\n",
    "url_BOS = 'https://api.tomorrow.io/v4/weather/realtime?location=02135%20US&apikey=CnEs2BY24EaHdNlkeEHnD4meKj2C7yLt'\n",
    "response_BOS = requests.get(url_BOS)\n",
    "data_BOS = response_BOS.json()\n",
    "temperature = data_BOS['data']['values']['temperature']\n",
    "print (f'the current temperature in Boston is {temperature}')"
   ]
  },
  {
   "cell_type": "code",
   "execution_count": 32,
   "id": "153dab7d-8036-4557-a19b-6be4b08d2ca4",
   "metadata": {},
   "outputs": [
    {
     "data": {
      "text/plain": [
       "'Brighton, Boston, Suffolk County, Massachusetts, 02135, United States'"
      ]
     },
     "execution_count": 32,
     "metadata": {},
     "output_type": "execute_result"
    }
   ],
   "source": [
    "#4. Print out the country this location is in.\n",
    "\n",
    "data_BOS['location']['name']"
   ]
  },
  {
   "cell_type": "code",
   "execution_count": 33,
   "id": "6223e280-4f96-4a26-9cf4-ff3cceae5781",
   "metadata": {},
   "outputs": [
    {
     "name": "stdout",
     "output_type": "stream",
     "text": [
      "there is no difference.\n"
     ]
    }
   ],
   "source": [
    "#5. Print out the difference between the current temperature and how warm it feels. Use \"It feels ___ degrees colder\" or \"It feels ___ degrees warmer,\" not negative numbers.\n",
    "\n",
    "if data_BOS['data']['values']['temperature'] > data_BOS['data']['values']['temperatureApparent']:\n",
    "    difference = abs(data_BOS['data']['values']['temperature'] - data_BOS['data']['values']['temperatureApparent'])\n",
    "    print (f'It feels {difference} Celsius degrees colder.')\n",
    "    \n",
    "elif data_BOS['data']['values']['temperature'] < data_BOS['data']['values']['temperatureApparent']:\n",
    "    difference = abs(data_BOS['data']['values']['temperature'] - data_BOS['data']['values']['temperatureApparent'])\n",
    "    print (f'It feels {difference} Celsius degrees warmer.')\n",
    "else: \n",
    "    print (f'there is no difference.')\n"
   ]
  },
  {
   "cell_type": "code",
   "execution_count": 34,
   "id": "6ee41a9b-0337-459f-8259-20b0f90ac8de",
   "metadata": {},
   "outputs": [
    {
     "data": {
      "text/plain": [
       "7.63"
      ]
     },
     "execution_count": 34,
     "metadata": {},
     "output_type": "execute_result"
    }
   ],
   "source": [
    "#6. What's the current temperature at Heathrow International Airport? Use the airport's IATA code to search.\n",
    "\n",
    "url_LHR = 'https://api.tomorrow.io/v4/weather/realtime?location=heathrow%20airport&apikey=CnEs2BY24EaHdNlkeEHnD4meKj2C7yLt'\n",
    "response_LHR = requests.get(url_LHR)\n",
    "data_LHR = response_LHR.json()\n",
    "data_LHR['data']['values']['temperature']"
   ]
  },
  {
   "cell_type": "code",
   "execution_count": 55,
   "id": "b0f0e8f2-d7e6-41b2-8d49-845e8af3254b",
   "metadata": {},
   "outputs": [
    {
     "data": {
      "text/plain": [
       "dict_keys(['latitude', 'longitude', 'generationtime_ms', 'utc_offset_seconds', 'timezone', 'timezone_abbreviation', 'elevation', 'daily_units', 'daily'])"
      ]
     },
     "execution_count": 55,
     "metadata": {},
     "output_type": "execute_result"
    }
   ],
   "source": [
    "#7. What URL would I use to request a 3-day forecast at Heathrow?\n",
    "url_fc = 'https://api.open-meteo.com/v1/forecast?latitude=51.4704&longitude=-0.4586&daily=weather_code,temperature_2m_max,temperature_2m_min,apparent_temperature_max,apparent_temperature_min&timezone=America%2FNew_York&forecast_days=3'\n",
    "response_fc = requests.get(url_fc)\n",
    "data_fc = response_fc.json()\n",
    "data_fc.keys()\n",
    "for date in forecast:\n",
    "    print('----------')\n",
    "    print(date['time'])"
   ]
  },
  {
   "cell_type": "code",
   "execution_count": 83,
   "id": "ed0b4db0-099a-4740-96d7-9908f782dc86",
   "metadata": {},
   "outputs": [
    {
     "name": "stdout",
     "output_type": "stream",
     "text": [
      "2024-11-08\n",
      "2024-11-09\n",
      "2024-11-10\n"
     ]
    }
   ],
   "source": [
    "#8. Print the date of each of the 3 days you're getting a forecast for.\n",
    "#This is the best I could do.\n",
    "print (data_fc['daily']['time'][0])\n",
    "print (data_fc['daily']['time'][1])\n",
    "print (data_fc['daily']['time'][2])\n"
   ]
  },
  {
   "cell_type": "code",
   "execution_count": 68,
   "id": "acc0a3d6-0e58-4004-9d2a-a2d0d2455f1e",
   "metadata": {},
   "outputs": [
    {
     "data": {
      "text/plain": [
       "[9.3, 8.8, 11.1]"
      ]
     },
     "execution_count": 68,
     "metadata": {},
     "output_type": "execute_result"
    }
   ],
   "source": [
    "#9. Print the maximum temperature of each of the days.\n",
    "\n",
    "data_fc['daily']['temperature_2m_max']\n"
   ]
  },
  {
   "cell_type": "code",
   "execution_count": 80,
   "id": "101c07af-ce3b-412f-be6d-fe52a4839e20",
   "metadata": {},
   "outputs": [
    {
     "name": "stdout",
     "output_type": "stream",
     "text": [
      "2024-11-10\n",
      "11.1\n"
     ]
    }
   ],
   "source": [
    "#10. Print only the day with the highest maximum temperature.\n",
    "date_and_temp = [{'date':'2024-11-08','maxtemp': 9.3},\n",
    "{'date':'2024-11-09', 'maxtemp': 8.8}, \n",
    "{'date':'2024-11-10', 'maxtemp':11.1}]\n",
    "\n",
    "highest_temp = -9999999\n",
    "highest_date = None \n",
    "\n",
    "for date in date_and_temp:\n",
    "    temp = date['maxtemp']\n",
    "    if temp > highest_temp:\n",
    "        highest_temp = temp\n",
    "        highest_date = date['date']\n",
    "\n",
    "print(highest_date)\n",
    "print(highest_temp)\n"
   ]
  },
  {
   "cell_type": "code",
   "execution_count": null,
   "id": "c4e7acb2-3ef5-4748-8f4e-b7d65af6b059",
   "metadata": {},
   "outputs": [],
   "source": [
    "#11. Did you find this easier or more difficult than using the weatherapi.com, and why? Which would you recommend to someone interesting in building a tool around weather information?\n",
    "\n",
    "# I found it more diffcult to use Tommorrow AND Open Meteo than using the weatherapi.com. Tommorow will give me weather forecast, but I'm not allowed to set a time range, and it will always forecast the weather in the next five days in hourly or minutely forms.\n",
    "# For Open Meteo, it creates shortcuts to information I'm looking for - but everything I need to go back to the api documentation and select options I'd like to see. \n"
   ]
  }
 ],
 "metadata": {
  "kernelspec": {
   "display_name": "Python 3 (ipykernel)",
   "language": "python",
   "name": "python3"
  },
  "language_info": {
   "codemirror_mode": {
    "name": "ipython",
    "version": 3
   },
   "file_extension": ".py",
   "mimetype": "text/x-python",
   "name": "python",
   "nbconvert_exporter": "python",
   "pygments_lexer": "ipython3",
   "version": "3.12.7"
  }
 },
 "nbformat": 4,
 "nbformat_minor": 5
}
